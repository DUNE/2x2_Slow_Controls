{
 "cells": [
  {
   "cell_type": "code",
   "execution_count": 1,
   "metadata": {},
   "outputs": [],
   "source": [
    "# PACKAGES REQUIRED\n",
    "from CLASSES.MPOD_library import MPOD\n",
    "from CLASSES.dictionary import classes_dictionary\n",
    "import time\n",
    "import json\n",
    "with open('CONFIG/module0.json', \"r\") as json_file:\n",
    "    moduleDB = json.load(json_file)"
   ]
  },
  {
   "cell_type": "code",
   "execution_count": 2,
   "metadata": {},
   "outputs": [
    {
     "name": "stdout",
     "output_type": "stream",
     "text": [
      "CHANNEL:.u0\n",
      "CHANNEL:.u1\n",
      "CHANNEL:.u100\n",
      "CHANNEL:.u101\n",
      "CHANNEL:.u102\n"
     ]
    }
   ],
   "source": [
    "# GET LIST OF MPODS\n",
    "PSU_list = []\n",
    "# Same process will be performed for each module within the array\n",
    "for module in moduleDB.keys():\n",
    "    units = moduleDB[module].keys()\n",
    "    for unit in units:\n",
    "        kind = moduleDB[module][unit][\"class\"]\n",
    "        object = classes_dictionary[kind]\n",
    "        PSU_list.append(object(module, unit, moduleDB[module][unit]))"
   ]
  },
  {
   "cell_type": "code",
   "execution_count": 3,
   "metadata": {},
   "outputs": [
    {
     "data": {
      "text/plain": [
       "['PACMAN&FANS', 'VGAs', 'RTDs']"
      ]
     },
     "execution_count": 3,
     "metadata": {},
     "output_type": "execute_result"
    }
   ],
   "source": [
    "# SELECT MPOD0 AND SHOW POWERING LIST\n",
    "MPOD_unit = PSU_list[0]\n",
    "a = list(MPOD_unit.getPoweringList())\n",
    "a"
   ]
  },
  {
   "cell_type": "code",
   "execution_count": 4,
   "metadata": {},
   "outputs": [
    {
     "name": "stdout",
     "output_type": "stream",
     "text": [
      "CHANNEL:.u0\n",
      "CHANNEL:.u1\n",
      "CHANNEL:.u100\n",
      "CHANNEL:.u101\n",
      "CHANNEL:.u102\n",
      "True\n",
      "{'PACMAN&FANS': {'.u0': False, '.u1': False, '.u100': False, '.u101': False, '.u102': False}, 'VGAs': {'.u300': False, '.u301': False, '.u302': False, '.u303': False}, 'RTDs': {'.u200': False, '.u201': False}}\n"
     ]
    }
   ],
   "source": [
    "print(MPOD_unit.getCrateStatus())\n",
    "print(MPOD_unit.getMeasuringStatus())"
   ]
  },
  {
   "cell_type": "code",
   "execution_count": 16,
   "metadata": {},
   "outputs": [
    {
     "data": {
      "text/plain": [
       "'WIENER-CRATE-MIB::outputStatus.u104 = No Such Instance currently exists at this OID'"
      ]
     },
     "execution_count": 16,
     "metadata": {},
     "output_type": "execute_result"
    }
   ],
   "source": [
    "MPOD_unit.measure(\"rtd\")[0][0][0]"
   ]
  },
  {
   "cell_type": "code",
   "execution_count": 5,
   "metadata": {},
   "outputs": [
    {
     "name": "stdout",
     "output_type": "stream",
     "text": [
      "CHANNEL:.u2\n",
      "CHANNEL:.u3\n",
      "CHANNEL:.u104\n",
      "CHANNEL:.u105\n",
      "CHANNEL:.u106\n",
      "False\n",
      "PACMAN&FANS\n",
      "CHANNEL:.u2\n",
      "CHANNEL:.u3\n",
      "CHANNEL:.u104\n",
      "CHANNEL:.u105\n",
      "CHANNEL:.u106\n",
      "([['WIENER-CRATE-MIB::outputStatus.u2 = No Such Instance currently exists at this OID', ''], ['WIENER-CRATE-MIB::outputStatus.u3 = No Such Instance currently exists at this OID', ''], ['WIENER-CRATE-MIB::outputStatus.u104 = No Such Instance currently exists at this OID', ''], ['WIENER-CRATE-MIB::outputStatus.u105 = No Such Instance currently exists at this OID', ''], ['WIENER-CRATE-MIB::outputStatus.u106 = No Such Instance currently exists at this OID', '']], ['this', 'this', 'this', 'this', 'this'], ['this', 'this', 'this', 'this', 'this'])\n",
      "CHANNEL:.u2\n",
      "CHANNEL:.u3\n",
      "CHANNEL:.u104\n",
      "CHANNEL:.u105\n",
      "CHANNEL:.u106\n",
      "VGAs\n",
      "CHANNEL:.u304\n",
      "CHANNEL:.u305\n",
      "CHANNEL:.u306\n",
      "CHANNEL:.u307\n",
      "([['WIENER-CRATE-MIB::outputStatus.u304 = No Such Instance currently exists at this OID', ''], ['WIENER-CRATE-MIB::outputStatus.u305 = No Such Instance currently exists at this OID', ''], ['WIENER-CRATE-MIB::outputStatus.u306 = No Such Instance currently exists at this OID', ''], ['WIENER-CRATE-MIB::outputStatus.u307 = No Such Instance currently exists at this OID', '']], ['this', 'this', 'this', 'this'], ['this', 'this', 'this', 'this'])\n",
      "CHANNEL:.u304\n",
      "CHANNEL:.u305\n",
      "CHANNEL:.u306\n",
      "CHANNEL:.u307\n",
      "RTDs\n",
      "CHANNEL:.u104\n",
      "([['WIENER-CRATE-MIB::outputStatus.u104 = No Such Instance currently exists at this OID', '']], ['this'], ['this'])\n",
      "CHANNEL:.u104\n",
      "{'PACMAN&FANS': False, 'VGAs': False, 'RTDs': False}\n"
     ]
    }
   ],
   "source": [
    "# TURN ON POWER SUPPLY\n",
    "#MPOD_unit.powerSwitch(1) # 1 means ON\n",
    "# TURN ON ALL CHANNELS FOR PARTICULAR POWERING\n",
    "#time.sleep(2)\n",
    "#MPOD_unit.powerON('rtd')\n",
    "#MPOD_unit.write_log()\n",
    "print(MPOD_unit.getCrateStatus())\n",
    "print(MPOD_unit.getMeasuringStatus())"
   ]
  },
  {
   "cell_type": "code",
   "execution_count": 14,
   "metadata": {},
   "outputs": [
    {
     "name": "stdout",
     "output_type": "stream",
     "text": [
      "False\n",
      "{'charge': False, 'light': False, 'rtd': False}\n"
     ]
    }
   ],
   "source": [
    "# POWER OFF CHANNELS FOR PARTICULAR POWERING\n",
    "#MPOD_unit.powerOFF('light')\n",
    "# POWER OFF POWER SUPPLY\n",
    "#time.sleep(2)\n",
    "#MPOD_unit.powerSwitch(0) # 1 means OFF\n",
    "print(MPOD_unit.getCrateStatus())\n",
    "print(MPOD_unit.getMeasuringStatus())"
   ]
  },
  {
   "cell_type": "code",
   "execution_count": 6,
   "metadata": {},
   "outputs": [
    {
     "name": "stdout",
     "output_type": "stream",
     "text": [
      "MPOD Continuous DAQ Activated: PACMAN&FANS. Taking data in real time\n",
      "CHANNEL:.u2\n",
      "CHANNEL:.u3\n",
      "CHANNEL:.u104\n",
      "CHANNEL:.u105\n",
      "CHANNEL:.u106\n"
     ]
    }
   ],
   "source": [
    "MPOD_unit.CONTINUOUS_monitoring('PACMAN&FANS')"
   ]
  },
  {
   "cell_type": "code",
   "execution_count": null,
   "metadata": {},
   "outputs": [],
   "source": []
  }
 ],
 "metadata": {
  "kernelspec": {
   "display_name": "myenv",
   "language": "python",
   "name": "python3"
  },
  "language_info": {
   "codemirror_mode": {
    "name": "ipython",
    "version": 3
   },
   "file_extension": ".py",
   "mimetype": "text/x-python",
   "name": "python",
   "nbconvert_exporter": "python",
   "pygments_lexer": "ipython3",
   "version": "3.9.18"
  },
  "orig_nbformat": 4
 },
 "nbformat": 4,
 "nbformat_minor": 2
}
