{
 "cells": [
  {
   "cell_type": "code",
   "execution_count": 2,
   "metadata": {},
   "outputs": [],
   "source": [
    "# PACKAGES REQUIRED\n",
    "from CLASSES.MPOD_library import MPOD\n",
    "from CLASSES.dictionary import classes_dictionary\n",
    "import time\n",
    "import json\n",
    "with open('CONFIG/module0.json', \"r\") as json_file:\n",
    "    moduleDB = json.load(json_file)"
   ]
  },
  {
   "cell_type": "code",
   "execution_count": 3,
   "metadata": {},
   "outputs": [
    {
     "name": "stdout",
     "output_type": "stream",
     "text": [
      "MPOD Continuous DAQ Activated: module0, PACMAN&FANS, .u0. Taking data in real time\n",
      "MPOD Continuous DAQ Activated: module0, PACMAN&FANS, .u1. Taking data in real time\n",
      "MPOD Continuous DAQ Activated: module0, PACMAN&FANS, .u100. Taking data in real time\n",
      "MPOD Continuous DAQ Activated: module0, PACMAN&FANS, .u101. Taking data in real time\n",
      "MPOD Continuous DAQ Activated: module0, PACMAN&FANS, .u102. Taking data in real time\n",
      "MPOD Continuous DAQ Activated: module0, VGAs, .u300. Taking data in real time\n",
      "MPOD Continuous DAQ Activated: module0, VGAs, .u301. Taking data in real time\n",
      "MPOD Continuous DAQ Activated: module0, VGAs, .u302. Taking data in real time\n",
      "MPOD Continuous DAQ Activated: module0, VGAs, .u303. Taking data in real time\n",
      "MPOD Continuous DAQ Activated: module0, RTDs, .u200. Taking data in real time\n",
      "MPOD Continuous DAQ Activated: module0, RTDs, .u201. Taking data in real time\n"
     ]
    },
    {
     "name": "stdout",
     "output_type": "stream",
     "text": [
      "*** Caught exception: <class 'KeyError'>: 'DATABASE'\n",
      "*** Caught exception: <class 'KeyError'>: 'DATABASE'\n",
      "*** Caught exception: <class 'KeyError'>: 'DATABASE'\n",
      "*** Caught exception: <class 'KeyError'>: 'DATABASE'\n",
      "*** Caught exception: <class 'KeyError'>: 'DATABASE'\n",
      "*** Caught exception: <class 'KeyError'>: 'DATABASE'\n",
      "*** Caught exception: <class 'KeyError'>: 'DATABASE'\n",
      "*** Caught exception: <class 'KeyError'>: 'DATABASE'\n",
      "*** Caught exception: <class 'KeyError'>: 'DATABASE'\n",
      "*** Caught exception: <class 'KeyError'>: 'DATABASE'\n"
     ]
    },
    {
     "name": "stderr",
     "output_type": "stream",
     "text": [
      "Traceback (most recent call last):\n",
      "  File \"/home/acd/rvizarr/2x2_Slow_Controls/Backend/CLASSES/MPOD_library.py\", line 382, in CONTINUOUS_monitoring\n",
      "    self.INFLUX_write(powering,channel,data)\n",
      "  File \"/home/acd/rvizarr/2x2_Slow_Controls/Backend/CLASSES/MPOD_library.py\", line 309, in INFLUX_write\n",
      "    client = self.InitializeInfluxDB()\n",
      "  File \"/home/acd/rvizarr/2x2_Slow_Controls/Backend/CLASSES/UNIT_library.py\", line 38, in InitializeInfluxDB\n",
      "    db = conf[\"DATABASE\"]\n",
      "  File \"/usr/lib64/python3.9/configparser.py\", line 963, in __getitem__\n",
      "    raise KeyError(key)\n",
      "KeyError: 'DATABASE'\n",
      "Traceback (most recent call last):\n",
      "  File \"/home/acd/rvizarr/2x2_Slow_Controls/Backend/CLASSES/MPOD_library.py\", line 382, in CONTINUOUS_monitoring\n",
      "    self.INFLUX_write(powering,channel,data)\n",
      "  File \"/home/acd/rvizarr/2x2_Slow_Controls/Backend/CLASSES/MPOD_library.py\", line 309, in INFLUX_write\n",
      "    client = self.InitializeInfluxDB()\n",
      "  File \"/home/acd/rvizarr/2x2_Slow_Controls/Backend/CLASSES/UNIT_library.py\", line 38, in InitializeInfluxDB\n",
      "    db = conf[\"DATABASE\"]\n",
      "  File \"/usr/lib64/python3.9/configparser.py\", line 963, in __getitem__\n",
      "    raise KeyError(key)\n",
      "KeyError: 'DATABASE'\n",
      "Traceback (most recent call last):\n",
      "  File \"/home/acd/rvizarr/2x2_Slow_Controls/Backend/CLASSES/MPOD_library.py\", line 382, in CONTINUOUS_monitoring\n",
      "    self.INFLUX_write(powering,channel,data)\n",
      "  File \"/home/acd/rvizarr/2x2_Slow_Controls/Backend/CLASSES/MPOD_library.py\", line 309, in INFLUX_write\n",
      "    client = self.InitializeInfluxDB()\n",
      "  File \"/home/acd/rvizarr/2x2_Slow_Controls/Backend/CLASSES/UNIT_library.py\", line 38, in InitializeInfluxDB\n",
      "    db = conf[\"DATABASE\"]\n",
      "  File \"/usr/lib64/python3.9/configparser.py\", line 963, in __getitem__\n",
      "    raise KeyError(key)\n",
      "KeyError: 'DATABASE'\n",
      "Traceback (most recent call last):\n",
      "  File \"/home/acd/rvizarr/2x2_Slow_Controls/Backend/CLASSES/MPOD_library.py\", line 382, in CONTINUOUS_monitoring\n",
      "    self.INFLUX_write(powering,channel,data)\n",
      "  File \"/home/acd/rvizarr/2x2_Slow_Controls/Backend/CLASSES/MPOD_library.py\", line 309, in INFLUX_write\n",
      "    client = self.InitializeInfluxDB()\n",
      "  File \"/home/acd/rvizarr/2x2_Slow_Controls/Backend/CLASSES/UNIT_library.py\", line 38, in InitializeInfluxDB\n",
      "    db = conf[\"DATABASE\"]\n",
      "  File \"/usr/lib64/python3.9/configparser.py\", line 963, in __getitem__\n",
      "    raise KeyError(key)\n",
      "KeyError: 'DATABASE'\n",
      "Traceback (most recent call last):\n",
      "  File \"/home/acd/rvizarr/2x2_Slow_Controls/Backend/CLASSES/MPOD_library.py\", line 382, in CONTINUOUS_monitoring\n",
      "    self.INFLUX_write(powering,channel,data)\n",
      "  File \"/home/acd/rvizarr/2x2_Slow_Controls/Backend/CLASSES/MPOD_library.py\", line 309, in INFLUX_write\n",
      "    client = self.InitializeInfluxDB()\n",
      "  File \"/home/acd/rvizarr/2x2_Slow_Controls/Backend/CLASSES/UNIT_library.py\", line 38, in InitializeInfluxDB\n",
      "    db = conf[\"DATABASE\"]\n",
      "  File \"/usr/lib64/python3.9/configparser.py\", line 963, in __getitem__\n",
      "    raise KeyError(key)\n",
      "KeyError: 'DATABASE'\n",
      "Traceback (most recent call last):\n",
      "  File \"/home/acd/rvizarr/2x2_Slow_Controls/Backend/CLASSES/MPOD_library.py\", line 382, in CONTINUOUS_monitoring\n",
      "    self.INFLUX_write(powering,channel,data)\n",
      "  File \"/home/acd/rvizarr/2x2_Slow_Controls/Backend/CLASSES/MPOD_library.py\", line 309, in INFLUX_write\n",
      "    client = self.InitializeInfluxDB()\n",
      "  File \"/home/acd/rvizarr/2x2_Slow_Controls/Backend/CLASSES/UNIT_library.py\", line 38, in InitializeInfluxDB\n",
      "    db = conf[\"DATABASE\"]\n",
      "  File \"/usr/lib64/python3.9/configparser.py\", line 963, in __getitem__\n",
      "    raise KeyError(key)\n",
      "KeyError: 'DATABASE'\n",
      "Traceback (most recent call last):\n",
      "  File \"/home/acd/rvizarr/2x2_Slow_Controls/Backend/CLASSES/MPOD_library.py\", line 382, in CONTINUOUS_monitoring\n",
      "    self.INFLUX_write(powering,channel,data)\n",
      "  File \"/home/acd/rvizarr/2x2_Slow_Controls/Backend/CLASSES/MPOD_library.py\", line 309, in INFLUX_write\n",
      "    client = self.InitializeInfluxDB()\n",
      "  File \"/home/acd/rvizarr/2x2_Slow_Controls/Backend/CLASSES/UNIT_library.py\", line 38, in InitializeInfluxDB\n",
      "    db = conf[\"DATABASE\"]\n",
      "  File \"/usr/lib64/python3.9/configparser.py\", line 963, in __getitem__\n",
      "    raise KeyError(key)\n",
      "KeyError: 'DATABASE'\n",
      "Traceback (most recent call last):\n",
      "  File \"/home/acd/rvizarr/2x2_Slow_Controls/Backend/CLASSES/MPOD_library.py\", line 382, in CONTINUOUS_monitoring\n",
      "    self.INFLUX_write(powering,channel,data)\n",
      "  File \"/home/acd/rvizarr/2x2_Slow_Controls/Backend/CLASSES/MPOD_library.py\", line 309, in INFLUX_write\n",
      "    client = self.InitializeInfluxDB()\n",
      "  File \"/home/acd/rvizarr/2x2_Slow_Controls/Backend/CLASSES/UNIT_library.py\", line 38, in InitializeInfluxDB\n",
      "    db = conf[\"DATABASE\"]\n",
      "  File \"/usr/lib64/python3.9/configparser.py\", line 963, in __getitem__\n",
      "    raise KeyError(key)\n",
      "KeyError: 'DATABASE'\n",
      "Traceback (most recent call last):\n",
      "  File \"/home/acd/rvizarr/2x2_Slow_Controls/Backend/CLASSES/MPOD_library.py\", line 382, in CONTINUOUS_monitoring\n",
      "    self.INFLUX_write(powering,channel,data)\n",
      "  File \"/home/acd/rvizarr/2x2_Slow_Controls/Backend/CLASSES/MPOD_library.py\", line 309, in INFLUX_write\n",
      "    client = self.InitializeInfluxDB()\n",
      "  File \"/home/acd/rvizarr/2x2_Slow_Controls/Backend/CLASSES/UNIT_library.py\", line 38, in InitializeInfluxDB\n",
      "    db = conf[\"DATABASE\"]\n",
      "  File \"/usr/lib64/python3.9/configparser.py\", line 963, in __getitem__\n",
      "    raise KeyError(key)\n",
      "KeyError: 'DATABASE'\n",
      "Traceback (most recent call last):\n",
      "  File \"/home/acd/rvizarr/2x2_Slow_Controls/Backend/CLASSES/MPOD_library.py\", line 382, in CONTINUOUS_monitoring\n",
      "    self.INFLUX_write(powering,channel,data)\n",
      "  File \"/home/acd/rvizarr/2x2_Slow_Controls/Backend/CLASSES/MPOD_library.py\", line 309, in INFLUX_write\n",
      "    client = self.InitializeInfluxDB()\n",
      "  File \"/home/acd/rvizarr/2x2_Slow_Controls/Backend/CLASSES/UNIT_library.py\", line 38, in InitializeInfluxDB\n",
      "    db = conf[\"DATABASE\"]\n",
      "  File \"/usr/lib64/python3.9/configparser.py\", line 963, in __getitem__\n",
      "    raise KeyError(key)\n",
      "KeyError: 'DATABASE'\n"
     ]
    },
    {
     "name": "stdout",
     "output_type": "stream",
     "text": [
      "*** Caught exception: <class 'KeyError'>: 'DATABASE'\n"
     ]
    },
    {
     "name": "stderr",
     "output_type": "stream",
     "text": [
      "Traceback (most recent call last):\n",
      "  File \"/home/acd/rvizarr/2x2_Slow_Controls/Backend/CLASSES/MPOD_library.py\", line 382, in CONTINUOUS_monitoring\n",
      "    self.INFLUX_write(powering,channel,data)\n",
      "  File \"/home/acd/rvizarr/2x2_Slow_Controls/Backend/CLASSES/MPOD_library.py\", line 309, in INFLUX_write\n",
      "    client = self.InitializeInfluxDB()\n",
      "  File \"/home/acd/rvizarr/2x2_Slow_Controls/Backend/CLASSES/UNIT_library.py\", line 38, in InitializeInfluxDB\n",
      "    db = conf[\"DATABASE\"]\n",
      "  File \"/usr/lib64/python3.9/configparser.py\", line 963, in __getitem__\n",
      "    raise KeyError(key)\n",
      "KeyError: 'DATABASE'\n"
     ]
    }
   ],
   "source": [
    "# GET LIST OF MPODS\n",
    "PSU_list = []\n",
    "# Same process will be performed for each module within the array\n",
    "for module in moduleDB.keys():\n",
    "    units = moduleDB[module].keys()\n",
    "    for unit in units:\n",
    "        kind = moduleDB[module][unit][\"class\"]\n",
    "        object = classes_dictionary[kind]\n",
    "        PSU_list.append(object(module, unit, moduleDB[module][unit]))"
   ]
  },
  {
   "cell_type": "code",
   "execution_count": 4,
   "metadata": {},
   "outputs": [
    {
     "data": {
      "text/plain": [
       "['PACMAN&FANS', 'VGAs', 'RTDs']"
      ]
     },
     "execution_count": 4,
     "metadata": {},
     "output_type": "execute_result"
    }
   ],
   "source": [
    "# SELECT MPOD0 AND SHOW POWERING LIST\n",
    "MPOD_unit = PSU_list[0]\n",
    "a = list(MPOD_unit.getPoweringList())\n",
    "a"
   ]
  },
  {
   "cell_type": "code",
   "execution_count": 5,
   "metadata": {},
   "outputs": [
    {
     "name": "stdout",
     "output_type": "stream",
     "text": [
      "True\n",
      "{'PACMAN&FANS': {'.u0': False, '.u1': False, '.u100': False, '.u101': False, '.u102': False}, 'VGAs': {'.u300': True, '.u301': True, '.u302': True, '.u303': True}, 'RTDs': {'.u200': False, '.u201': False}}\n"
     ]
    }
   ],
   "source": [
    "print(MPOD_unit.getCrateStatus())\n",
    "print(MPOD_unit.getMeasuringStatus())"
   ]
  },
  {
   "cell_type": "code",
   "execution_count": 6,
   "metadata": {},
   "outputs": [
    {
     "name": "stderr",
     "output_type": "stream",
     "text": [
      "outputStatust: Unknown Object Identifier (Sub-id not found: (top) -> outputStatust)\n",
      "outputStatust: Unknown Object Identifier (Sub-id not found: (top) -> outputStatust)\n",
      "outputStatust: Unknown Object Identifier (Sub-id not found: (top) -> outputStatust)\n",
      "outputStatust: Unknown Object Identifier (Sub-id not found: (top) -> outputStatust)\n",
      "outputMeasurementSenseVoltaget: Unknown Object Identifier (Sub-id not found: (top) -> outputMeasurementSenseVoltaget)\n"
     ]
    },
    {
     "ename": "ValueError",
     "evalue": "Failed to retrieve measurement sense voltage",
     "output_type": "error",
     "traceback": [
      "\u001b[0;31m---------------------------------------------------------------------------\u001b[0m",
      "\u001b[0;31mValueError\u001b[0m                                Traceback (most recent call last)",
      "Cell \u001b[0;32mIn[6], line 1\u001b[0m\n\u001b[0;32m----> 1\u001b[0m MPOD_unit\u001b[39m.\u001b[39;49mmeasure(\u001b[39m\"\u001b[39;49m\u001b[39mrtd\u001b[39;49m\u001b[39m\"\u001b[39;49m)[\u001b[39m0\u001b[39m][\u001b[39m0\u001b[39m][\u001b[39m0\u001b[39m]\n",
      "File \u001b[0;32m~/2x2_Slow_Controls/Backend/CLASSES/MPOD_library.py:261\u001b[0m, in \u001b[0;36mMPOD.measure\u001b[0;34m(self, powering_array)\u001b[0m\n\u001b[1;32m    259\u001b[0m \u001b[39melse\u001b[39;00m:\n\u001b[1;32m    260\u001b[0m     Svalues \u001b[39m+\u001b[39m\u001b[39m=\u001b[39m [\u001b[39mself\u001b[39m\u001b[39m.\u001b[39mgetStatus(channel)]\n\u001b[0;32m--> 261\u001b[0m Vvalues \u001b[39m+\u001b[39m\u001b[39m=\u001b[39m [\u001b[39mself\u001b[39;49m\u001b[39m.\u001b[39;49mgetMeasurementSenseVoltage(channel)]\n\u001b[1;32m    262\u001b[0m Ivalues \u001b[39m+\u001b[39m\u001b[39m=\u001b[39m [\u001b[39mself\u001b[39m\u001b[39m.\u001b[39mgetMeasurementCurrent(channel)]\n\u001b[1;32m    263\u001b[0m \u001b[39mreturn\u001b[39;00m Svalues,Vvalues,Ivalues\n",
      "File \u001b[0;32m~/2x2_Slow_Controls/Backend/CLASSES/MPOD_library.py:76\u001b[0m, in \u001b[0;36mMPOD.getMeasurementSenseVoltage\u001b[0;34m(self, channel)\u001b[0m\n\u001b[1;32m     74\u001b[0m     \u001b[39mreturn\u001b[39;00m ret[\u001b[39m0\u001b[39m]\u001b[39m.\u001b[39msplit(\u001b[39m\"\u001b[39m\u001b[39m \u001b[39m\u001b[39m\"\u001b[39m)[\u001b[39m-\u001b[39m\u001b[39m2\u001b[39m]\n\u001b[1;32m     75\u001b[0m \u001b[39melse\u001b[39;00m:\n\u001b[0;32m---> 76\u001b[0m     \u001b[39mraise\u001b[39;00m \u001b[39mValueError\u001b[39;00m(\u001b[39m\"\u001b[39m\u001b[39mFailed to retrieve measurement sense voltage\u001b[39m\u001b[39m\"\u001b[39m)\n",
      "\u001b[0;31mValueError\u001b[0m: Failed to retrieve measurement sense voltage"
     ]
    }
   ],
   "source": [
    "MPOD_unit.measure(\"rtd\")[0][0][0]"
   ]
  },
  {
   "cell_type": "code",
   "execution_count": 5,
   "metadata": {},
   "outputs": [
    {
     "name": "stdout",
     "output_type": "stream",
     "text": [
      "CHANNEL:.u2\n",
      "CHANNEL:.u3\n",
      "CHANNEL:.u104\n",
      "CHANNEL:.u105\n",
      "CHANNEL:.u106\n",
      "False\n",
      "PACMAN&FANS\n",
      "CHANNEL:.u2\n",
      "CHANNEL:.u3\n",
      "CHANNEL:.u104\n",
      "CHANNEL:.u105\n",
      "CHANNEL:.u106\n",
      "([['WIENER-CRATE-MIB::outputStatus.u2 = No Such Instance currently exists at this OID', ''], ['WIENER-CRATE-MIB::outputStatus.u3 = No Such Instance currently exists at this OID', ''], ['WIENER-CRATE-MIB::outputStatus.u104 = No Such Instance currently exists at this OID', ''], ['WIENER-CRATE-MIB::outputStatus.u105 = No Such Instance currently exists at this OID', ''], ['WIENER-CRATE-MIB::outputStatus.u106 = No Such Instance currently exists at this OID', '']], ['this', 'this', 'this', 'this', 'this'], ['this', 'this', 'this', 'this', 'this'])\n",
      "CHANNEL:.u2\n",
      "CHANNEL:.u3\n",
      "CHANNEL:.u104\n",
      "CHANNEL:.u105\n",
      "CHANNEL:.u106\n",
      "VGAs\n",
      "CHANNEL:.u304\n",
      "CHANNEL:.u305\n",
      "CHANNEL:.u306\n",
      "CHANNEL:.u307\n",
      "([['WIENER-CRATE-MIB::outputStatus.u304 = No Such Instance currently exists at this OID', ''], ['WIENER-CRATE-MIB::outputStatus.u305 = No Such Instance currently exists at this OID', ''], ['WIENER-CRATE-MIB::outputStatus.u306 = No Such Instance currently exists at this OID', ''], ['WIENER-CRATE-MIB::outputStatus.u307 = No Such Instance currently exists at this OID', '']], ['this', 'this', 'this', 'this'], ['this', 'this', 'this', 'this'])\n",
      "CHANNEL:.u304\n",
      "CHANNEL:.u305\n",
      "CHANNEL:.u306\n",
      "CHANNEL:.u307\n",
      "RTDs\n",
      "CHANNEL:.u104\n",
      "([['WIENER-CRATE-MIB::outputStatus.u104 = No Such Instance currently exists at this OID', '']], ['this'], ['this'])\n",
      "CHANNEL:.u104\n",
      "{'PACMAN&FANS': False, 'VGAs': False, 'RTDs': False}\n"
     ]
    }
   ],
   "source": [
    "# TURN ON POWER SUPPLY\n",
    "#MPOD_unit.powerSwitch(1) # 1 means ON\n",
    "# TURN ON ALL CHANNELS FOR PARTICULAR POWERING\n",
    "#time.sleep(2)\n",
    "#MPOD_unit.powerON('rtd')\n",
    "#MPOD_unit.write_log()\n",
    "print(MPOD_unit.getCrateStatus())\n",
    "print(MPOD_unit.getMeasuringStatus())"
   ]
  },
  {
   "cell_type": "code",
   "execution_count": 14,
   "metadata": {},
   "outputs": [
    {
     "name": "stdout",
     "output_type": "stream",
     "text": [
      "False\n",
      "{'charge': False, 'light': False, 'rtd': False}\n"
     ]
    }
   ],
   "source": [
    "# POWER OFF CHANNELS FOR PARTICULAR POWERING\n",
    "#MPOD_unit.powerOFF('light')\n",
    "# POWER OFF POWER SUPPLY\n",
    "#time.sleep(2)\n",
    "#MPOD_unit.powerSwitch(0) # 1 means OFF\n",
    "print(MPOD_unit.getCrateStatus())\n",
    "print(MPOD_unit.getMeasuringStatus())"
   ]
  },
  {
   "cell_type": "code",
   "execution_count": 6,
   "metadata": {},
   "outputs": [
    {
     "name": "stdout",
     "output_type": "stream",
     "text": [
      "MPOD Continuous DAQ Activated: PACMAN&FANS. Taking data in real time\n",
      "CHANNEL:.u2\n",
      "CHANNEL:.u3\n",
      "CHANNEL:.u104\n",
      "CHANNEL:.u105\n",
      "CHANNEL:.u106\n"
     ]
    }
   ],
   "source": [
    "MPOD_unit.CONTINUOUS_monitoring('PACMAN&FANS')"
   ]
  },
  {
   "cell_type": "code",
   "execution_count": null,
   "metadata": {},
   "outputs": [],
   "source": []
  }
 ],
 "metadata": {
  "kernelspec": {
   "display_name": "myenv",
   "language": "python",
   "name": "python3"
  },
  "language_info": {
   "codemirror_mode": {
    "name": "ipython",
    "version": 3
   },
   "file_extension": ".py",
   "mimetype": "text/x-python",
   "name": "python",
   "nbconvert_exporter": "python",
   "pygments_lexer": "ipython3",
   "version": "3.9.18"
  },
  "orig_nbformat": 4
 },
 "nbformat": 4,
 "nbformat_minor": 2
}
