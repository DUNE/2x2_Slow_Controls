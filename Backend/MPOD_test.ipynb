{
 "cells": [
  {
   "cell_type": "code",
   "execution_count": 1,
   "metadata": {},
   "outputs": [
    {
     "name": "stderr",
     "output_type": "stream",
     "text": [
      "/home/acd/rvizarr/Mx2_SlowControlsDisplay/myenv/lib64/python3.6/site-packages/paramiko/transport.py:32: CryptographyDeprecationWarning: Python 3.6 is no longer supported by the Python core team. Therefore, support for it is deprecated in cryptography. The next release of cryptography will remove support for Python 3.6.\n",
      "  from cryptography.hazmat.backends import default_backend\n"
     ]
    }
   ],
   "source": [
    "# PACKAGES REQUIRED\n",
    "from CLASSES.MPOD_library import MPOD\n",
    "from CLASSES.dictionary import classes_dictionary\n",
    "import time\n",
    "import json\n",
    "with open('CONFIG/modules_units.json', \"r\") as json_file:\n",
    "    moduleDB = json.load(json_file)"
   ]
  },
  {
   "cell_type": "code",
   "execution_count": 2,
   "metadata": {},
   "outputs": [],
   "source": [
    "# GET LIST OF MPODS\n",
    "PSU_list = []\n",
    "# Same process will be performed for each module within the array\n",
    "for module in moduleDB.keys():\n",
    "    units = moduleDB[module].keys()\n",
    "    for unit in units:\n",
    "        kind = moduleDB[module][unit][\"class\"]\n",
    "        object = classes_dictionary[kind]\n",
    "        PSU_list.append(object(module, unit, moduleDB[module][unit]))"
   ]
  },
  {
   "cell_type": "code",
   "execution_count": 3,
   "metadata": {},
   "outputs": [
    {
     "data": {
      "text/plain": [
       "['charge', 'light', 'rtd']"
      ]
     },
     "execution_count": 3,
     "metadata": {},
     "output_type": "execute_result"
    }
   ],
   "source": [
    "# SELECT MPOD0 AND SHOW POWERING LIST\n",
    "MPOD_unit = PSU_list[0]\n",
    "a = list(MPOD_unit.getPoweringList())\n",
    "a"
   ]
  },
  {
   "cell_type": "code",
   "execution_count": 4,
   "metadata": {},
   "outputs": [
    {
     "name": "stdout",
     "output_type": "stream",
     "text": [
      "False\n",
      "{'charge': False, 'light': False, 'rtd': False}\n"
     ]
    }
   ],
   "source": [
    "print(MPOD_unit.getCrateStatus())\n",
    "print(MPOD_unit.getMeasuringStatus())"
   ]
  },
  {
   "cell_type": "code",
   "execution_count": 16,
   "metadata": {},
   "outputs": [
    {
     "data": {
      "text/plain": [
       "'WIENER-CRATE-MIB::outputStatus.u104 = No Such Instance currently exists at this OID'"
      ]
     },
     "execution_count": 16,
     "metadata": {},
     "output_type": "execute_result"
    }
   ],
   "source": [
    "MPOD_unit.measure(\"rtd\")[0][0][0]"
   ]
  },
  {
   "cell_type": "code",
   "execution_count": 5,
   "metadata": {},
   "outputs": [
    {
     "name": "stdout",
     "output_type": "stream",
     "text": [
      "True\n",
      "{'charge': False, 'light': False, 'rtd': True}\n"
     ]
    }
   ],
   "source": [
    "# TURN ON POWER SUPPLY\n",
    "MPOD_unit.powerSwitch(1) # 1 means ON\n",
    "# TURN ON ALL CHANNELS FOR PARTICULAR POWERING\n",
    "time.sleep(2)\n",
    "MPOD_unit.powerON('rtd')\n",
    "MPOD_unit.write_log()\n",
    "print(MPOD_unit.getCrateStatus())\n",
    "print(MPOD_unit.getMeasuringStatus())"
   ]
  },
  {
   "cell_type": "code",
   "execution_count": 14,
   "metadata": {},
   "outputs": [
    {
     "name": "stdout",
     "output_type": "stream",
     "text": [
      "False\n",
      "{'charge': False, 'light': False, 'rtd': False}\n"
     ]
    }
   ],
   "source": [
    "# POWER OFF CHANNELS FOR PARTICULAR POWERING\n",
    "MPOD_unit.powerOFF('light')\n",
    "# POWER OFF POWER SUPPLY\n",
    "time.sleep(2)\n",
    "MPOD_unit.powerSwitch(0) # 1 means OFF\n",
    "print(MPOD_unit.getCrateStatus())\n",
    "print(MPOD_unit.getMeasuringStatus())"
   ]
  },
  {
   "cell_type": "code",
   "execution_count": 12,
   "metadata": {},
   "outputs": [
    {
     "name": "stdout",
     "output_type": "stream",
     "text": [
      "~#~#~#~#~#~#~#~#~#~#~#~#~#~#~#~#~#~#~#~#~#~#~#~#~#~#~#~#~#~#~#~#~#~#~#~#~#~#\n",
      "Continuous DAQ Activated\n",
      "Taking data in real time\n",
      "~#~#~#~#~#~#~#~#~#~#~#~#~#~#~#~#~#~#~#~#~#~#~#~#~#~#~#~#~#~#~#~#~#~#~#~#~#~#\n"
     ]
    },
    {
     "ename": "KeyboardInterrupt",
     "evalue": "",
     "output_type": "error",
     "traceback": [
      "\u001b[0;31m---------------------------------------------------------------------------\u001b[0m",
      "\u001b[0;31mKeyboardInterrupt\u001b[0m                         Traceback (most recent call last)",
      "\u001b[0;32m<ipython-input-12-cbdda735feb0>\u001b[0m in \u001b[0;36m<module>\u001b[0;34m\u001b[0m\n\u001b[0;32m----> 1\u001b[0;31m \u001b[0mMPOD_unit\u001b[0m\u001b[0;34m.\u001b[0m\u001b[0mCONTINUOUS_monitoring\u001b[0m\u001b[0;34m(\u001b[0m\u001b[0;34m'rtd'\u001b[0m\u001b[0;34m)\u001b[0m\u001b[0;34m\u001b[0m\u001b[0;34m\u001b[0m\u001b[0m\n\u001b[0m",
      "\u001b[0;32m~/Mx2_SlowControlsDisplay/MyApp/CLASSES/MPOD_library.py\u001b[0m in \u001b[0;36mCONTINUOUS_monitoring\u001b[0;34m(self, powering)\u001b[0m\n\u001b[1;32m    255\u001b[0m                 \u001b[0mdata\u001b[0m \u001b[0;34m=\u001b[0m \u001b[0mself\u001b[0m\u001b[0;34m.\u001b[0m\u001b[0mmeasure\u001b[0m\u001b[0;34m(\u001b[0m\u001b[0mpowering\u001b[0m\u001b[0;34m)\u001b[0m\u001b[0;34m\u001b[0m\u001b[0;34m\u001b[0m\u001b[0m\n\u001b[1;32m    256\u001b[0m                 \u001b[0mself\u001b[0m\u001b[0;34m.\u001b[0m\u001b[0mINFLUX_write\u001b[0m\u001b[0;34m(\u001b[0m\u001b[0mpowering\u001b[0m\u001b[0;34m,\u001b[0m\u001b[0mdata\u001b[0m\u001b[0;34m)\u001b[0m\u001b[0;34m\u001b[0m\u001b[0;34m\u001b[0m\u001b[0m\n\u001b[0;32m--> 257\u001b[0;31m                 \u001b[0mtime\u001b[0m\u001b[0;34m.\u001b[0m\u001b[0msleep\u001b[0m\u001b[0;34m(\u001b[0m\u001b[0;36m2\u001b[0m\u001b[0;34m)\u001b[0m\u001b[0;34m\u001b[0m\u001b[0;34m\u001b[0m\u001b[0m\n\u001b[0m\u001b[1;32m    258\u001b[0m \u001b[0;34m\u001b[0m\u001b[0m\n\u001b[1;32m    259\u001b[0m         \u001b[0;32mexcept\u001b[0m \u001b[0mException\u001b[0m \u001b[0;32mas\u001b[0m \u001b[0me\u001b[0m\u001b[0;34m:\u001b[0m\u001b[0;34m\u001b[0m\u001b[0;34m\u001b[0m\u001b[0m\n",
      "\u001b[0;31mKeyboardInterrupt\u001b[0m: "
     ]
    }
   ],
   "source": [
    "MPOD_unit.CONTINUOUS_monitoring('rtd')"
   ]
  },
  {
   "cell_type": "code",
   "execution_count": null,
   "metadata": {},
   "outputs": [],
   "source": []
  }
 ],
 "metadata": {
  "kernelspec": {
   "display_name": "myenv",
   "language": "python",
   "name": "python3"
  },
  "language_info": {
   "codemirror_mode": {
    "name": "ipython",
    "version": 3
   },
   "file_extension": ".py",
   "mimetype": "text/x-python",
   "name": "python",
   "nbconvert_exporter": "python",
   "pygments_lexer": "ipython3",
   "version": "3.6.8"
  },
  "orig_nbformat": 4
 },
 "nbformat": 4,
 "nbformat_minor": 2
}
