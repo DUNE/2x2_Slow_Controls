{
 "cells": [
  {
   "cell_type": "code",
   "execution_count": 1,
   "metadata": {},
   "outputs": [],
   "source": [
    "from tti_library import ttiPsu"
   ]
  },
  {
   "cell_type": "code",
   "execution_count": 2,
   "metadata": {},
   "outputs": [],
   "source": [
    "ip = '192.168.196.32'\n",
    "tti = ttiPsu(ip,1)"
   ]
  },
  {
   "cell_type": "code",
   "execution_count": 3,
   "metadata": {},
   "outputs": [
    {
     "ename": "OSError",
     "evalue": "[Errno 113] No route to host",
     "output_type": "error",
     "traceback": [
      "\u001b[0;31m---------------------------------------------------------------------------\u001b[0m",
      "\u001b[0;31mOSError\u001b[0m                                   Traceback (most recent call last)",
      "\u001b[0;32m<ipython-input-3-0974e7428308>\u001b[0m in \u001b[0;36m<module>\u001b[0;34m\u001b[0m\n\u001b[0;32m----> 1\u001b[0;31m \u001b[0mV_start\u001b[0m \u001b[0;34m=\u001b[0m \u001b[0mtti\u001b[0m\u001b[0;34m.\u001b[0m\u001b[0mreadOutputVolts\u001b[0m\u001b[0;34m(\u001b[0m\u001b[0;34m)\u001b[0m\u001b[0;34m\u001b[0m\u001b[0;34m\u001b[0m\u001b[0m\n\u001b[0m\u001b[1;32m      2\u001b[0m \u001b[0mstatus\u001b[0m \u001b[0;34m=\u001b[0m \u001b[0mtti\u001b[0m\u001b[0;34m.\u001b[0m\u001b[0mgetOutputIsEnabled\u001b[0m\u001b[0;34m(\u001b[0m\u001b[0;34m)\u001b[0m\u001b[0;34m\u001b[0m\u001b[0;34m\u001b[0m\u001b[0m\n\u001b[1;32m      3\u001b[0m \u001b[0mprint\u001b[0m\u001b[0;34m(\u001b[0m\u001b[0;34m\"The current voltage on the TTI is: \"\u001b[0m\u001b[0;34m,\u001b[0m \u001b[0mV_start\u001b[0m\u001b[0;34m,\u001b[0m \u001b[0;34m\"\\t V\"\u001b[0m\u001b[0;34m)\u001b[0m\u001b[0;34m\u001b[0m\u001b[0;34m\u001b[0m\u001b[0m\n\u001b[1;32m      4\u001b[0m \u001b[0mprint\u001b[0m\u001b[0;34m(\u001b[0m\u001b[0;34m\"Currently the output is: \"\u001b[0m\u001b[0;34m,\u001b[0m \u001b[0mstatus\u001b[0m\u001b[0;34m)\u001b[0m\u001b[0;34m\u001b[0m\u001b[0;34m\u001b[0m\u001b[0m\n",
      "\u001b[0;32m~/Mx2_SlowControlsDisplay/MyApp/tti_library.py\u001b[0m in \u001b[0;36mreadOutputVolts\u001b[0;34m(self)\u001b[0m\n\u001b[1;32m    198\u001b[0m     \u001b[0;32mdef\u001b[0m \u001b[0mreadOutputVolts\u001b[0m\u001b[0;34m(\u001b[0m\u001b[0mself\u001b[0m\u001b[0;34m)\u001b[0m\u001b[0;34m:\u001b[0m\u001b[0;34m\u001b[0m\u001b[0;34m\u001b[0m\u001b[0m\n\u001b[1;32m    199\u001b[0m         \u001b[0mcmd\u001b[0m \u001b[0;34m=\u001b[0m \u001b[0;34m'V{}O?'\u001b[0m\u001b[0;34m.\u001b[0m\u001b[0mformat\u001b[0m\u001b[0;34m(\u001b[0m\u001b[0mself\u001b[0m\u001b[0;34m.\u001b[0m\u001b[0mchannel\u001b[0m\u001b[0;34m)\u001b[0m\u001b[0;34m\u001b[0m\u001b[0;34m\u001b[0m\u001b[0m\n\u001b[0;32m--> 200\u001b[0;31m         \u001b[0mv\u001b[0m \u001b[0;34m=\u001b[0m \u001b[0mself\u001b[0m\u001b[0;34m.\u001b[0m\u001b[0msend_receive_float\u001b[0m\u001b[0;34m(\u001b[0m\u001b[0mcmd\u001b[0m\u001b[0;34m)\u001b[0m\u001b[0;34m\u001b[0m\u001b[0;34m\u001b[0m\u001b[0m\n\u001b[0m\u001b[1;32m    201\u001b[0m         \u001b[0;32mreturn\u001b[0m \u001b[0mv\u001b[0m\u001b[0;34m\u001b[0m\u001b[0;34m\u001b[0m\u001b[0m\n\u001b[1;32m    202\u001b[0m \u001b[0;34m\u001b[0m\u001b[0m\n",
      "\u001b[0;32m~/Mx2_SlowControlsDisplay/MyApp/tti_library.py\u001b[0m in \u001b[0;36msend_receive_float\u001b[0;34m(self, cmd)\u001b[0m\n\u001b[1;32m     55\u001b[0m     \u001b[0;31m# Sends and recieves a float\u001b[0m\u001b[0;34m\u001b[0m\u001b[0;34m\u001b[0m\u001b[0;34m\u001b[0m\u001b[0m\n\u001b[1;32m     56\u001b[0m     \u001b[0;32mdef\u001b[0m \u001b[0msend_receive_float\u001b[0m\u001b[0;34m(\u001b[0m\u001b[0mself\u001b[0m\u001b[0;34m,\u001b[0m \u001b[0mcmd\u001b[0m\u001b[0;34m)\u001b[0m\u001b[0;34m:\u001b[0m\u001b[0;34m\u001b[0m\u001b[0;34m\u001b[0m\u001b[0m\n\u001b[0;32m---> 57\u001b[0;31m         \u001b[0mr\u001b[0m \u001b[0;34m=\u001b[0m \u001b[0mself\u001b[0m\u001b[0;34m.\u001b[0m\u001b[0msend_receive_string\u001b[0m\u001b[0;34m(\u001b[0m\u001b[0mcmd\u001b[0m\u001b[0;34m)\u001b[0m\u001b[0;34m\u001b[0m\u001b[0;34m\u001b[0m\u001b[0m\n\u001b[0m\u001b[1;32m     58\u001b[0m         \u001b[0;31m#Eg. '-0.007V\\r\\n'  '31.500\\r\\n'  'V2 3.140\\r\\n'\u001b[0m\u001b[0;34m\u001b[0m\u001b[0;34m\u001b[0m\u001b[0;34m\u001b[0m\u001b[0m\n\u001b[1;32m     59\u001b[0m         \u001b[0mr\u001b[0m\u001b[0;34m=\u001b[0m\u001b[0mr\u001b[0m\u001b[0;34m.\u001b[0m\u001b[0mrstrip\u001b[0m\u001b[0;34m(\u001b[0m\u001b[0;34m'\\r\\nVA'\u001b[0m\u001b[0;34m)\u001b[0m \u001b[0;31m#Strip these trailing chars\u001b[0m\u001b[0;34m\u001b[0m\u001b[0;34m\u001b[0m\u001b[0m\n",
      "\u001b[0;32m~/Mx2_SlowControlsDisplay/MyApp/tti_library.py\u001b[0m in \u001b[0;36msend_receive_string\u001b[0;34m(self, cmd)\u001b[0m\n\u001b[1;32m     47\u001b[0m         \u001b[0;32mwith\u001b[0m \u001b[0msocket\u001b[0m\u001b[0;34m.\u001b[0m\u001b[0msocket\u001b[0m\u001b[0;34m(\u001b[0m\u001b[0msocket\u001b[0m\u001b[0;34m.\u001b[0m\u001b[0mAF_INET\u001b[0m\u001b[0;34m,\u001b[0m \u001b[0msocket\u001b[0m\u001b[0;34m.\u001b[0m\u001b[0mSOCK_STREAM\u001b[0m\u001b[0;34m)\u001b[0m \u001b[0;32mas\u001b[0m \u001b[0ms\u001b[0m\u001b[0;34m:\u001b[0m\u001b[0;34m\u001b[0m\u001b[0;34m\u001b[0m\u001b[0m\n\u001b[1;32m     48\u001b[0m             \u001b[0ms\u001b[0m\u001b[0;34m.\u001b[0m\u001b[0msettimeout\u001b[0m\u001b[0;34m(\u001b[0m\u001b[0mself\u001b[0m\u001b[0;34m.\u001b[0m\u001b[0msock_timeout_secs\u001b[0m\u001b[0;34m)\u001b[0m\u001b[0;34m\u001b[0m\u001b[0;34m\u001b[0m\u001b[0m\n\u001b[0;32m---> 49\u001b[0;31m             \u001b[0ms\u001b[0m\u001b[0;34m.\u001b[0m\u001b[0mconnect\u001b[0m\u001b[0;34m(\u001b[0m\u001b[0;34m(\u001b[0m\u001b[0mself\u001b[0m\u001b[0;34m.\u001b[0m\u001b[0mip\u001b[0m\u001b[0;34m,\u001b[0m \u001b[0mself\u001b[0m\u001b[0;34m.\u001b[0m\u001b[0mport\u001b[0m\u001b[0;34m)\u001b[0m\u001b[0;34m)\u001b[0m\u001b[0;34m\u001b[0m\u001b[0;34m\u001b[0m\u001b[0m\n\u001b[0m\u001b[1;32m     50\u001b[0m             \u001b[0ms\u001b[0m\u001b[0;34m.\u001b[0m\u001b[0msendall\u001b[0m\u001b[0;34m(\u001b[0m\u001b[0mbytes\u001b[0m\u001b[0;34m(\u001b[0m\u001b[0mcmd\u001b[0m\u001b[0;34m,\u001b[0m\u001b[0;34m'ascii'\u001b[0m\u001b[0;34m)\u001b[0m\u001b[0;34m)\u001b[0m\u001b[0;34m\u001b[0m\u001b[0;34m\u001b[0m\u001b[0m\n\u001b[1;32m     51\u001b[0m             \u001b[0ms\u001b[0m\u001b[0;34m.\u001b[0m\u001b[0msendall\u001b[0m\u001b[0;34m(\u001b[0m\u001b[0mbytes\u001b[0m\u001b[0;34m(\u001b[0m\u001b[0mcmd\u001b[0m\u001b[0;34m,\u001b[0m\u001b[0;34m'ascii'\u001b[0m\u001b[0;34m)\u001b[0m\u001b[0;34m)\u001b[0m\u001b[0;34m\u001b[0m\u001b[0;34m\u001b[0m\u001b[0m\n",
      "\u001b[0;31mOSError\u001b[0m: [Errno 113] No route to host"
     ]
    }
   ],
   "source": [
    "V_start = tti.readOutputVolts()\n",
    "status = tti.getOutputIsEnabled()\n",
    "print(\"The current voltage on the TTI is: \", V_start, \"\\t V\")\n",
    "print(\"Currently the output is: \", status)"
   ]
  },
  {
   "cell_type": "markdown",
   "metadata": {},
   "source": [
    "### POWER CONFIGURATION"
   ]
  },
  {
   "cell_type": "code",
   "execution_count": 10,
   "metadata": {},
   "outputs": [],
   "source": [
    "def ramp_up(ip,V_start,V0):\n",
    "    status = True\n",
    "    tti = ttiPsu(ip,1)\n",
    "\n",
    "    #   Makes sure output is turned off \n",
    "    try:\n",
    "        tti.setOutputEnable(False)\n",
    "    except:\n",
    "        failure(ip)\n",
    "        return False\n",
    "    \n",
    "    #   Turns output on\n",
    "    try:\n",
    "        tti.setOutputEnable(True)\n",
    "    except:\n",
    "        failure(ip)\n",
    "        return False\n",
    "    \n",
    "    #\tTest to ensure we can read voltages\n",
    "    try:\n",
    "        print(\"The current Voltage is: \" ,tti.readOutputVolts() ,\"V\")\n",
    "    except:\n",
    "        failure(ip)\n",
    "        return False\n",
    "    \n",
    "    #   Sets max current to 7.5 mA\n",
    "    tti.setMaxAmps(0.0075)\n",
    "    tti.setTripAmps(0.01) \n",
    "    tti.setTripVolts(110) \n",
    "    #   Sets voltage step size\n",
    "    tti.setStepSizeVolts(1)\n",
    "    #   Begins ramping up voltage\n",
    "    if V0 > 6:\n",
    "        print(\"starting ramp\")\n",
    "        #   Slow at the beginning\n",
    "        while tti.readOutputVolts() < 6:\n",
    "            #   Stops if incrimentation fails\n",
    "            try:\n",
    "                tti.incrementVoltage()\n",
    "                print(\"The current Voltage is: \" ,tti.readOutputVolts() ,\"V\")\n",
    "                #write()\n",
    "            except:\n",
    "                failure(ip)\n",
    "                status = False\n",
    "                break\n",
    "                \n",
    "        #   Breaks ends the function if there was an issue in incrimentation\n",
    "        if status == False:\n",
    "            failure(ip)\n",
    "            return False\n",
    "        \n",
    "        #   Speeds up incrimentation\n",
    "        fast_step = 6\n",
    "        tti.setStepSizeVolts(fast_step)\n",
    "        \n",
    "        #   Same as above but now to V0\n",
    "        while tti.readOutputVolts() < V0-fast_step:\n",
    "                try:    \n",
    "                    tti.incrementVoltage()\n",
    "                    print(\"The current Voltage is: \" ,tti.readOutputVolts() ,\"V\")\n",
    "                    #write()\n",
    "                except:\n",
    "                    failure(ip)\n",
    "                    status = False\n",
    "                    break\n",
    "                if status == False:\n",
    "                    failure(ip)\n",
    "                    return False\n",
    "        \n",
    "        tti.setMaxVolts(V0)\n",
    "        print(\"The current Voltage is: \" ,tti.readOutputVolts() ,\"V\")\n",
    "\n",
    "    #   If voltage is lower than threshold to speed up then just do normally\n",
    "    elif V0 < 7: \n",
    "        while tti.readOutputVolts() < 7:\n",
    "            try:\n",
    "                tti.incrementVoltage()\n",
    "                print(\"The current Voltage is: \" ,tti.readOutputVolts() ,\"V\")\n",
    "            except: \n",
    "                failure(ip)\n",
    "                break\n",
    "\n",
    "    tti.setStepSizeVolts(0)\n",
    "    tti.setMaxVolts(V0)            \n",
    "    return True\n",
    "\n",
    "def ramp_down(ip):\n",
    "    tti = ttiPsu(ip,1)\n",
    "        \n",
    "    #   Prints the voltage it starts at\n",
    "    print(\"The current Voltage is: \" ,tti.readOutputVolts() ,\"V\")\n",
    "    #write() \n",
    "    #   initializes the voltage step size to 1\n",
    "    tti.setStepSizeVolts(6)\n",
    "    \n",
    "    #   Lowers the voltage (reverse of before)\n",
    "    while tti.readOutputVolts() > 0.1:\n",
    "        if tti.readOutputVolts() < 7:\n",
    "            try:\n",
    "                tti.setStepSizeVolts(1)\n",
    "            except:\n",
    "                failure(ip)        \n",
    "        try:\n",
    "            tti.decrementVoltage()\n",
    "            print(\"The current Voltage is: \" ,tti.readOutputVolts() ,\"V\")\n",
    "        except:\n",
    "            failure(ip)\n",
    "        \n",
    "    #   Sets voltage to zero and turns off output\n",
    "    tti.setMaxVolts(0)\n",
    "    print(\"The current Voltage is: \" ,tti.readOutputVolts() ,\"V\")\n",
    "    tti.setOutputEnable(False)\n",
    "  \n",
    "#   Ramp voltage down to zero and turn off\n",
    "def failure(ip):\n",
    "    log = open(\"Historical.log\", \"a\")\n",
    "    log.write(\"ENTERING FAILURE MODE!\\n\")\n",
    "    #write()\n",
    "    tti = ttiPsu(ip,1)\n",
    "    ramp_down(ip)\n",
    "    tti.setOutputEnable(False)\n",
    "    log.write(\"Failure Protocol Succesfully executed\")\n",
    "    log.close()"
   ]
  },
  {
   "cell_type": "code",
   "execution_count": 11,
   "metadata": {},
   "outputs": [
    {
     "name": "stdout",
     "output_type": "stream",
     "text": [
      "The current Voltage is:  0.01 V\n",
      "starting ramp\n",
      "The current Voltage is:  1.01 V\n",
      "The current Voltage is:  2.01 V\n",
      "The current Voltage is:  3.01 V\n",
      "The current Voltage is:  4.01 V\n",
      "The current Voltage is:  5.01 V\n",
      "The current Voltage is:  6.01 V\n",
      "The current Voltage is:  12.02 V\n",
      "The current Voltage is:  18.02 V\n",
      "The current Voltage is:  24.02 V\n",
      "The current Voltage is:  30.02 V\n",
      "The current Voltage is:  36.02 V\n",
      "The current Voltage is:  42.02 V\n",
      "The current Voltage is:  48.02 V\n",
      "The current Voltage is:  54.02 V\n",
      "The current Voltage is:  60.02 V\n",
      "The current Voltage is:  66.02 V\n",
      "The current Voltage is:  72.03 V\n",
      "The current Voltage is:  78.03 V\n",
      "The current Voltage is:  84.03 V\n",
      "The current Voltage is:  90.03 V\n",
      "The current Voltage is:  96.04 V\n",
      "The current Voltage is:  100.04 V\n"
     ]
    },
    {
     "data": {
      "text/plain": [
       "True"
      ]
     },
     "execution_count": 11,
     "metadata": {},
     "output_type": "execute_result"
    }
   ],
   "source": [
    "ramp_up(ip,0,100)"
   ]
  },
  {
   "cell_type": "code",
   "execution_count": 12,
   "metadata": {},
   "outputs": [
    {
     "name": "stdout",
     "output_type": "stream",
     "text": [
      "The current voltage on the TTI is:  100.04 \t V\n",
      "Currently the output is:  True\n"
     ]
    }
   ],
   "source": [
    "V_start = tti.readOutputVolts()\n",
    "status = tti.getOutputIsEnabled()\n",
    "print(\"The current voltage on the TTI is: \", V_start, \"\\t V\")\n",
    "print(\"Currently the output is: \", status)"
   ]
  },
  {
   "cell_type": "code",
   "execution_count": 13,
   "metadata": {},
   "outputs": [
    {
     "name": "stdout",
     "output_type": "stream",
     "text": [
      "The current Voltage is:  100.04 V\n",
      "The current Voltage is:  94.04 V\n",
      "The current Voltage is:  88.04 V\n",
      "The current Voltage is:  82.04 V\n",
      "The current Voltage is:  76.03 V\n",
      "The current Voltage is:  70.03 V\n",
      "The current Voltage is:  64.02 V\n",
      "The current Voltage is:  58.03 V\n",
      "The current Voltage is:  52.02 V\n",
      "The current Voltage is:  46.02 V\n",
      "The current Voltage is:  40.02 V\n",
      "The current Voltage is:  34.02 V\n",
      "The current Voltage is:  28.03 V\n",
      "The current Voltage is:  22.02 V\n",
      "The current Voltage is:  16.02 V\n",
      "The current Voltage is:  10.01 V\n",
      "The current Voltage is:  4.01 V\n",
      "The current Voltage is:  3.01 V\n",
      "The current Voltage is:  2.01 V\n",
      "The current Voltage is:  1.01 V\n",
      "The current Voltage is:  0.01 V\n",
      "The current Voltage is:  0.01 V\n"
     ]
    }
   ],
   "source": [
    "ramp_down(ip)"
   ]
  },
  {
   "cell_type": "code",
   "execution_count": 14,
   "metadata": {},
   "outputs": [
    {
     "name": "stdout",
     "output_type": "stream",
     "text": [
      "The current voltage on the TTI is:  0.0 \t V\n",
      "Currently the output is:  False\n"
     ]
    }
   ],
   "source": [
    "V_start = tti.readOutputVolts()\n",
    "status = tti.getOutputIsEnabled()\n",
    "print(\"The current voltage on the TTI is: \", V_start, \"\\t V\")\n",
    "print(\"Currently the output is: \", status)"
   ]
  },
  {
   "cell_type": "markdown",
   "metadata": {},
   "source": [
    "### OUTPUT CONFIGURATION"
   ]
  },
  {
   "cell_type": "code",
   "execution_count": 16,
   "metadata": {},
   "outputs": [
    {
     "name": "stdout",
     "output_type": "stream",
     "text": [
      "Currently the output is:  True\n"
     ]
    }
   ],
   "source": [
    "# SET OUTPUT TRUE\n",
    "tti.setOutputEnable(True)\n",
    "status = tti.getOutputIsEnabled()\n",
    "print(\"Currently the output is: \", status)"
   ]
  },
  {
   "cell_type": "markdown",
   "metadata": {},
   "source": [
    "### USING CLASS"
   ]
  },
  {
   "cell_type": "code",
   "execution_count": 1,
   "metadata": {},
   "outputs": [
    {
     "name": "stderr",
     "output_type": "stream",
     "text": [
      "/home/acd/rvizarr/Mx2_SlowControlsDisplay/myenv/lib64/python3.6/site-packages/paramiko/transport.py:32: CryptographyDeprecationWarning: Python 3.6 is no longer supported by the Python core team. Therefore, support for it is deprecated in cryptography. The next release of cryptography will remove support for Python 3.6.\n",
      "  from cryptography.hazmat.backends import default_backend\n"
     ]
    }
   ],
   "source": [
    "from CLASSES.TTI_library import TTI\n",
    "from CLASSES.dictionary import classes_dictionary\n",
    "import json\n",
    "with open('CONFIG/modules_units.json', \"r\") as json_file:\n",
    "    moduleDB = json.load(json_file)"
   ]
  },
  {
   "cell_type": "code",
   "execution_count": 2,
   "metadata": {},
   "outputs": [],
   "source": [
    "# GET LIST OF CONNECTED UNITS\n",
    "PSU_list = []\n",
    "# Same process will be performed for each module within the array\n",
    "for module in moduleDB.keys():\n",
    "    units = moduleDB[module].keys()\n",
    "    for unit in units:\n",
    "        kind = moduleDB[module][unit][\"class\"]\n",
    "        object = classes_dictionary[kind]\n",
    "        PSU_list.append(object(module, unit, moduleDB[module][unit]))"
   ]
  },
  {
   "cell_type": "code",
   "execution_count": 3,
   "metadata": {},
   "outputs": [
    {
     "name": "stdout",
     "output_type": "stream",
     "text": [
      "The current voltage on the TTI is:  0.0 \t V\n",
      "Currently the output is:  False\n"
     ]
    }
   ],
   "source": [
    "tti = PSU_list[1]\n",
    "V_start = tti.readOutputVolts(1)\n",
    "status = tti.getOutputIsEnabled(1)\n",
    "print(\"The current voltage on the TTI is: \", V_start, \"\\t V\")\n",
    "print(\"Currently the output is: \", status)"
   ]
  },
  {
   "cell_type": "code",
   "execution_count": 4,
   "metadata": {},
   "outputs": [
    {
     "name": "stdout",
     "output_type": "stream",
     "text": [
      "The current Voltage is:  0.01 V\n",
      "Starting Ramp\n",
      "The current Voltage is:  1.01 V\n",
      "The current Voltage is:  2.0 V\n",
      "The current Voltage is:  3.0 V\n",
      "The current Voltage is:  4.01 V\n",
      "The current Voltage is:  5.0 V\n",
      "The current Voltage is:  6.01 V\n",
      "The current Voltage is:  12.01 V\n",
      "The current Voltage is:  18.01 V\n",
      "The current Voltage is:  24.02 V\n",
      "The current Voltage is:  30.02 V\n",
      "The current Voltage is:  36.02 V\n",
      "The current Voltage is:  42.02 V\n",
      "The current Voltage is:  48.02 V\n",
      "The current Voltage is:  54.02 V\n",
      "The current Voltage is:  60.03 V\n",
      "The current Voltage is:  66.02 V\n",
      "The current Voltage is:  72.03 V\n",
      "The current Voltage is:  78.03 V\n",
      "The current Voltage is:  84.03 V\n",
      "The current Voltage is:  90.04 V\n",
      "The current Voltage is:  96.05 V\n",
      "The current Voltage is:  96.04 V\n"
     ]
    },
    {
     "data": {
      "text/plain": [
       "True"
      ]
     },
     "execution_count": 4,
     "metadata": {},
     "output_type": "execute_result"
    }
   ],
   "source": [
    "tti.ramp_up(100,1)"
   ]
  },
  {
   "cell_type": "code",
   "execution_count": 4,
   "metadata": {},
   "outputs": [
    {
     "data": {
      "text/plain": [
       "{'voltage': False}"
      ]
     },
     "execution_count": 4,
     "metadata": {},
     "output_type": "execute_result"
    }
   ],
   "source": [
    "tti.measuring_status"
   ]
  },
  {
   "cell_type": "code",
   "execution_count": 6,
   "metadata": {},
   "outputs": [
    {
     "name": "stdout",
     "output_type": "stream",
     "text": [
      "The current Voltage is:  96.04 V\n",
      "The current Voltage is:  90.04 V\n",
      "The current Voltage is:  84.05 V\n",
      "The current Voltage is:  78.04 V\n",
      "The current Voltage is:  72.04 V\n",
      "The current Voltage is:  66.03 V\n",
      "The current Voltage is:  60.04 V\n",
      "The current Voltage is:  54.02 V\n",
      "The current Voltage is:  48.03 V\n",
      "The current Voltage is:  42.02 V\n",
      "The current Voltage is:  36.03 V\n",
      "The current Voltage is:  30.03 V\n",
      "The current Voltage is:  24.03 V\n",
      "The current Voltage is:  18.02 V\n",
      "The current Voltage is:  12.02 V\n",
      "The current Voltage is:  6.02 V\n",
      "The current Voltage is:  5.01 V\n",
      "The current Voltage is:  4.02 V\n",
      "The current Voltage is:  3.02 V\n",
      "The current Voltage is:  2.01 V\n",
      "The current Voltage is:  1.01 V\n",
      "The current Voltage is:  0.02 V\n",
      "The current Voltage is:  0.02 V\n"
     ]
    }
   ],
   "source": [
    "tti.ramp_down(1)"
   ]
  },
  {
   "cell_type": "code",
   "execution_count": 4,
   "metadata": {},
   "outputs": [
    {
     "data": {
      "text/plain": [
       "{'voltage': False}"
      ]
     },
     "execution_count": 4,
     "metadata": {},
     "output_type": "execute_result"
    }
   ],
   "source": [
    "tti.measuring_status"
   ]
  },
  {
   "cell_type": "code",
   "execution_count": 6,
   "metadata": {},
   "outputs": [
    {
     "name": "stdout",
     "output_type": "stream",
     "text": [
      "The current Voltage is:  96.06 V\n",
      "Starting Ramp\n",
      "The current Voltage is:  96.06 V\n",
      "Continuous DAQ Activated: voltage. Taking data in real time\n"
     ]
    },
    {
     "ename": "KeyboardInterrupt",
     "evalue": "",
     "output_type": "error",
     "traceback": [
      "\u001b[0;31m---------------------------------------------------------------------------\u001b[0m",
      "\u001b[0;31mKeyboardInterrupt\u001b[0m                         Traceback (most recent call last)",
      "\u001b[0;32m<ipython-input-6-fc7e6422afaf>\u001b[0m in \u001b[0;36m<module>\u001b[0;34m\u001b[0m\n\u001b[0;32m----> 1\u001b[0;31m \u001b[0mtti\u001b[0m\u001b[0;34m.\u001b[0m\u001b[0mCONTINUOUS_monitoring\u001b[0m\u001b[0;34m(\u001b[0m\u001b[0;34m\"voltage\"\u001b[0m\u001b[0;34m)\u001b[0m\u001b[0;34m\u001b[0m\u001b[0;34m\u001b[0m\u001b[0m\n\u001b[0m",
      "\u001b[0;32m~/Mx2_SlowControlsDisplay/MyApp/CLASSES/TTI_library.py\u001b[0m in \u001b[0;36mCONTINUOUS_monitoring\u001b[0;34m(self, powering)\u001b[0m\n\u001b[1;32m    354\u001b[0m             \u001b[0mprint\u001b[0m\u001b[0;34m(\u001b[0m\u001b[0;34m\"Continuous DAQ Activated: \"\u001b[0m \u001b[0;34m+\u001b[0m \u001b[0mpowering\u001b[0m \u001b[0;34m+\u001b[0m \u001b[0;34m\". Taking data in real time\"\u001b[0m\u001b[0;34m)\u001b[0m\u001b[0;34m\u001b[0m\u001b[0;34m\u001b[0m\u001b[0m\n\u001b[1;32m    355\u001b[0m             \u001b[0;32mwhile\u001b[0m \u001b[0mself\u001b[0m\u001b[0;34m.\u001b[0m\u001b[0mgetCrateStatus\u001b[0m\u001b[0;34m(\u001b[0m\u001b[0;34m)\u001b[0m\u001b[0;34m:\u001b[0m\u001b[0;34m\u001b[0m\u001b[0;34m\u001b[0m\u001b[0m\n\u001b[0;32m--> 356\u001b[0;31m                 \u001b[0mdata\u001b[0m \u001b[0;34m=\u001b[0m \u001b[0mself\u001b[0m\u001b[0;34m.\u001b[0m\u001b[0mreadOutputVolts\u001b[0m\u001b[0;34m(\u001b[0m\u001b[0;36m1\u001b[0m\u001b[0;34m)\u001b[0m\u001b[0;34m\u001b[0m\u001b[0;34m\u001b[0m\u001b[0m\n\u001b[0m\u001b[1;32m    357\u001b[0m                 \u001b[0mself\u001b[0m\u001b[0;34m.\u001b[0m\u001b[0mINFLUX_write\u001b[0m\u001b[0;34m(\u001b[0m\u001b[0mpowering\u001b[0m\u001b[0;34m,\u001b[0m\u001b[0mdata\u001b[0m\u001b[0;34m)\u001b[0m\u001b[0;34m\u001b[0m\u001b[0;34m\u001b[0m\u001b[0m\n\u001b[1;32m    358\u001b[0m                 \u001b[0;31m#self.write_log()\u001b[0m\u001b[0;34m\u001b[0m\u001b[0;34m\u001b[0m\u001b[0;34m\u001b[0m\u001b[0m\n",
      "\u001b[0;32m~/Mx2_SlowControlsDisplay/MyApp/CLASSES/TTI_library.py\u001b[0m in \u001b[0;36mreadOutputVolts\u001b[0;34m(self, channel)\u001b[0m\n\u001b[1;32m    109\u001b[0m     \u001b[0;32mdef\u001b[0m \u001b[0mreadOutputVolts\u001b[0m\u001b[0;34m(\u001b[0m\u001b[0mself\u001b[0m\u001b[0;34m,\u001b[0m \u001b[0mchannel\u001b[0m\u001b[0;34m)\u001b[0m\u001b[0;34m:\u001b[0m\u001b[0;34m\u001b[0m\u001b[0;34m\u001b[0m\u001b[0m\n\u001b[1;32m    110\u001b[0m         \u001b[0mcmd\u001b[0m \u001b[0;34m=\u001b[0m \u001b[0;34m'V{}O?'\u001b[0m\u001b[0;34m.\u001b[0m\u001b[0mformat\u001b[0m\u001b[0;34m(\u001b[0m\u001b[0mchannel\u001b[0m\u001b[0;34m)\u001b[0m\u001b[0;34m\u001b[0m\u001b[0;34m\u001b[0m\u001b[0m\n\u001b[0;32m--> 111\u001b[0;31m         \u001b[0mv\u001b[0m \u001b[0;34m=\u001b[0m \u001b[0mself\u001b[0m\u001b[0;34m.\u001b[0m\u001b[0msend_receive_float\u001b[0m\u001b[0;34m(\u001b[0m\u001b[0mcmd\u001b[0m\u001b[0;34m)\u001b[0m\u001b[0;34m\u001b[0m\u001b[0;34m\u001b[0m\u001b[0m\n\u001b[0m\u001b[1;32m    112\u001b[0m         \u001b[0;32mreturn\u001b[0m \u001b[0mv\u001b[0m\u001b[0;34m\u001b[0m\u001b[0;34m\u001b[0m\u001b[0m\n\u001b[1;32m    113\u001b[0m \u001b[0;34m\u001b[0m\u001b[0m\n",
      "\u001b[0;32m~/Mx2_SlowControlsDisplay/MyApp/CLASSES/TTI_library.py\u001b[0m in \u001b[0;36msend_receive_float\u001b[0;34m(self, cmd)\u001b[0m\n\u001b[1;32m     98\u001b[0m     \u001b[0;31m# Sends and recieves a float\u001b[0m\u001b[0;34m\u001b[0m\u001b[0;34m\u001b[0m\u001b[0;34m\u001b[0m\u001b[0m\n\u001b[1;32m     99\u001b[0m     \u001b[0;32mdef\u001b[0m \u001b[0msend_receive_float\u001b[0m\u001b[0;34m(\u001b[0m\u001b[0mself\u001b[0m\u001b[0;34m,\u001b[0m \u001b[0mcmd\u001b[0m\u001b[0;34m)\u001b[0m\u001b[0;34m:\u001b[0m\u001b[0;34m\u001b[0m\u001b[0;34m\u001b[0m\u001b[0m\n\u001b[0;32m--> 100\u001b[0;31m         \u001b[0mr\u001b[0m \u001b[0;34m=\u001b[0m \u001b[0mself\u001b[0m\u001b[0;34m.\u001b[0m\u001b[0msend_receive_string\u001b[0m\u001b[0;34m(\u001b[0m\u001b[0mcmd\u001b[0m\u001b[0;34m)\u001b[0m\u001b[0;34m\u001b[0m\u001b[0;34m\u001b[0m\u001b[0m\n\u001b[0m\u001b[1;32m    101\u001b[0m         \u001b[0;31m#Eg. '-0.007V\\r\\n'  '31.500\\r\\n'  'V2 3.140\\r\\n'\u001b[0m\u001b[0;34m\u001b[0m\u001b[0;34m\u001b[0m\u001b[0;34m\u001b[0m\u001b[0m\n\u001b[1;32m    102\u001b[0m         \u001b[0mr\u001b[0m\u001b[0;34m=\u001b[0m\u001b[0mr\u001b[0m\u001b[0;34m.\u001b[0m\u001b[0mrstrip\u001b[0m\u001b[0;34m(\u001b[0m\u001b[0;34m'\\r\\nVA'\u001b[0m\u001b[0;34m)\u001b[0m \u001b[0;31m#Strip these trailing chars\u001b[0m\u001b[0;34m\u001b[0m\u001b[0;34m\u001b[0m\u001b[0m\n",
      "\u001b[0;32m~/Mx2_SlowControlsDisplay/MyApp/CLASSES/TTI_library.py\u001b[0m in \u001b[0;36msend_receive_string\u001b[0;34m(self, cmd)\u001b[0m\n\u001b[1;32m     90\u001b[0m         \u001b[0;32mwith\u001b[0m \u001b[0msocket\u001b[0m\u001b[0;34m.\u001b[0m\u001b[0msocket\u001b[0m\u001b[0;34m(\u001b[0m\u001b[0msocket\u001b[0m\u001b[0;34m.\u001b[0m\u001b[0mAF_INET\u001b[0m\u001b[0;34m,\u001b[0m \u001b[0msocket\u001b[0m\u001b[0;34m.\u001b[0m\u001b[0mSOCK_STREAM\u001b[0m\u001b[0;34m)\u001b[0m \u001b[0;32mas\u001b[0m \u001b[0ms\u001b[0m\u001b[0;34m:\u001b[0m\u001b[0;34m\u001b[0m\u001b[0;34m\u001b[0m\u001b[0m\n\u001b[1;32m     91\u001b[0m             \u001b[0ms\u001b[0m\u001b[0;34m.\u001b[0m\u001b[0msettimeout\u001b[0m\u001b[0;34m(\u001b[0m\u001b[0mself\u001b[0m\u001b[0;34m.\u001b[0m\u001b[0mdictionary\u001b[0m\u001b[0;34m[\u001b[0m\u001b[0;34m\"sock_timeout_secs\"\u001b[0m\u001b[0;34m]\u001b[0m\u001b[0;34m)\u001b[0m\u001b[0;34m\u001b[0m\u001b[0;34m\u001b[0m\u001b[0m\n\u001b[0;32m---> 92\u001b[0;31m             \u001b[0ms\u001b[0m\u001b[0;34m.\u001b[0m\u001b[0mconnect\u001b[0m\u001b[0;34m(\u001b[0m\u001b[0;34m(\u001b[0m\u001b[0mself\u001b[0m\u001b[0;34m.\u001b[0m\u001b[0mdictionary\u001b[0m\u001b[0;34m[\u001b[0m\u001b[0;34m\"ip\"\u001b[0m\u001b[0;34m]\u001b[0m\u001b[0;34m,\u001b[0m \u001b[0mself\u001b[0m\u001b[0;34m.\u001b[0m\u001b[0mdictionary\u001b[0m\u001b[0;34m[\u001b[0m\u001b[0;34m\"port\"\u001b[0m\u001b[0;34m]\u001b[0m\u001b[0;34m)\u001b[0m\u001b[0;34m)\u001b[0m\u001b[0;34m\u001b[0m\u001b[0;34m\u001b[0m\u001b[0m\n\u001b[0m\u001b[1;32m     93\u001b[0m             \u001b[0ms\u001b[0m\u001b[0;34m.\u001b[0m\u001b[0msendall\u001b[0m\u001b[0;34m(\u001b[0m\u001b[0mbytes\u001b[0m\u001b[0;34m(\u001b[0m\u001b[0mcmd\u001b[0m\u001b[0;34m,\u001b[0m\u001b[0;34m'ascii'\u001b[0m\u001b[0;34m)\u001b[0m\u001b[0;34m)\u001b[0m\u001b[0;34m\u001b[0m\u001b[0;34m\u001b[0m\u001b[0m\n\u001b[1;32m     94\u001b[0m             \u001b[0ms\u001b[0m\u001b[0;34m.\u001b[0m\u001b[0msendall\u001b[0m\u001b[0;34m(\u001b[0m\u001b[0mbytes\u001b[0m\u001b[0;34m(\u001b[0m\u001b[0mcmd\u001b[0m\u001b[0;34m,\u001b[0m\u001b[0;34m'ascii'\u001b[0m\u001b[0;34m)\u001b[0m\u001b[0;34m)\u001b[0m\u001b[0;34m\u001b[0m\u001b[0;34m\u001b[0m\u001b[0m\n",
      "\u001b[0;31mKeyboardInterrupt\u001b[0m: "
     ]
    }
   ],
   "source": [
    "tti.CONTINUOUS_monitoring(\"voltage\")"
   ]
  },
  {
   "cell_type": "code",
   "execution_count": 8,
   "metadata": {},
   "outputs": [
    {
     "data": {
      "text/plain": [
       "96.06"
      ]
     },
     "execution_count": 8,
     "metadata": {},
     "output_type": "execute_result"
    }
   ],
   "source": [
    "tti.readOutputVolts(1)"
   ]
  },
  {
   "cell_type": "code",
   "execution_count": 10,
   "metadata": {},
   "outputs": [],
   "source": [
    "tti.crate_status = False"
   ]
  },
  {
   "cell_type": "code",
   "execution_count": null,
   "metadata": {},
   "outputs": [],
   "source": []
  }
 ],
 "metadata": {
  "kernelspec": {
   "display_name": "myenv",
   "language": "python",
   "name": "python3"
  },
  "language_info": {
   "codemirror_mode": {
    "name": "ipython",
    "version": 3
   },
   "file_extension": ".py",
   "mimetype": "text/x-python",
   "name": "python",
   "nbconvert_exporter": "python",
   "pygments_lexer": "ipython3",
   "version": "3.6.8"
  },
  "orig_nbformat": 4
 },
 "nbformat": 4,
 "nbformat_minor": 2
}
